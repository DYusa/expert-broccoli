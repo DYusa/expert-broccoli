{
  "nbformat": 4,
  "nbformat_minor": 0,
  "metadata": {
    "colab": {
      "provenance": []
    },
    "kernelspec": {
      "name": "python3",
      "display_name": "Python 3"
    },
    "language_info": {
      "name": "python"
    }
  },
  "cells": [
    {
      "cell_type": "code",
      "execution_count": null,
      "metadata": {
        "id": "Y3sZYd02Ws-b"
      },
      "outputs": [],
      "source": [
        "import streamlit as st\n",
        "\n",
        "st.title(\"Grade Calculator\")\n",
        "\n",
        "vize = st.number_input(\"Enter Vize Grade:\", min_value=0, step=1)\n",
        "final = st.number_input(\"Enter Final Grade:\", min_value=0, step=1)\n",
        "\n",
        "o1v = st.number_input(\"O1 Vize Weight (%):\", min_value=0, max_value=100, step=1)\n",
        "o1f = st.number_input(\"O1 Final Weight (%):\", min_value=0, max_value=100, step=1)\n",
        "\n",
        "o2v = st.number_input(\"O2 Vize Weight (%):\", min_value=0, max_value=100, step=1)\n",
        "o2f = st.number_input(\"O2 Final Weight (%):\", min_value=0, max_value=100, step=1)\n",
        "\n",
        "o3v = st.number_input(\"O3 Vize Weight (%):\", min_value=0, max_value=100, step=1)\n",
        "o3f = st.number_input(\"O3 Final Weight (%):\", min_value=0, max_value=100, step=1)\n",
        "\n",
        "if st.button(\"Calculate Scores\"):\n",
        "    oao1 = (o1v / 100) * vize + (o1f / 100) * final\n",
        "    oao2 = (o2v / 100) * vize + (o2f / 100) * final\n",
        "    oao3 = (o3v / 100) * vize + (o3f / 100) * final\n",
        "\n",
        "    st.write(f\"OAO1: {oao1:.2f}\")\n",
        "    st.write(f\"OAO2: {oao2:.2f}\")\n",
        "    st.write(f\"OAO3: {oao3:.2f}\")"
      ]
    }
  ]
}